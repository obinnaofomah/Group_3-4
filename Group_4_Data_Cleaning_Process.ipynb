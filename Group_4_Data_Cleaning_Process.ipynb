{
 "cells": [
  {
   "cell_type": "code",
   "execution_count": 1,
   "id": "735a8cc1",
   "metadata": {},
   "outputs": [],
   "source": [
    "import pandas as pd\n",
    "import numpy as np\n",
    "import seaborn as sns\n",
    "import matplotlib.pyplot as plt"
   ]
  },
  {
   "cell_type": "code",
   "execution_count": 2,
   "id": "f25a503a",
   "metadata": {},
   "outputs": [
    {
     "name": "stderr",
     "output_type": "stream",
     "text": [
      "C:\\Users\\obinn\\AppData\\Local\\Temp\\ipykernel_39972\\662679527.py:1: DtypeWarning: Columns (5) have mixed types. Specify dtype option on import or set low_memory=False.\n",
      "  data = pd.read_csv('train_set.csv')\n"
     ]
    }
   ],
   "source": [
    "data = pd.read_csv('train_set.csv')"
   ]
  },
  {
   "cell_type": "code",
   "execution_count": 3,
   "id": "16fd39d2",
   "metadata": {},
   "outputs": [
    {
     "data": {
      "text/html": [
       "<div>\n",
       "<style scoped>\n",
       "    .dataframe tbody tr th:only-of-type {\n",
       "        vertical-align: middle;\n",
       "    }\n",
       "\n",
       "    .dataframe tbody tr th {\n",
       "        vertical-align: top;\n",
       "    }\n",
       "\n",
       "    .dataframe thead th {\n",
       "        text-align: right;\n",
       "    }\n",
       "</style>\n",
       "<table border=\"1\" class=\"dataframe\">\n",
       "  <thead>\n",
       "    <tr style=\"text-align: right;\">\n",
       "      <th></th>\n",
       "      <th>X_STATE</th>\n",
       "      <th>IMONTH</th>\n",
       "      <th>IYEAR</th>\n",
       "      <th>DISPCODE</th>\n",
       "      <th>PVTRESD1</th>\n",
       "      <th>COLGHOUS</th>\n",
       "      <th>LADULT1</th>\n",
       "      <th>CTELNUM1</th>\n",
       "      <th>CADULT1</th>\n",
       "      <th>PVTRESD3</th>\n",
       "      <th>...</th>\n",
       "      <th>X_AIDTST4</th>\n",
       "      <th>FTJUDA2_</th>\n",
       "      <th>FRUTDA2_</th>\n",
       "      <th>GRENDA1_</th>\n",
       "      <th>FRNCHDA_</th>\n",
       "      <th>POTADA1_</th>\n",
       "      <th>VEGEDA2_</th>\n",
       "      <th>X_FRUTSU1</th>\n",
       "      <th>X_VEGESU1</th>\n",
       "      <th>Outcome</th>\n",
       "    </tr>\n",
       "  </thead>\n",
       "  <tbody>\n",
       "    <tr>\n",
       "      <th>0</th>\n",
       "      <td>29</td>\n",
       "      <td>11</td>\n",
       "      <td>2021</td>\n",
       "      <td>1100</td>\n",
       "      <td>NaN</td>\n",
       "      <td>NaN</td>\n",
       "      <td>NaN</td>\n",
       "      <td>1.0</td>\n",
       "      <td>1.0</td>\n",
       "      <td>1.0</td>\n",
       "      <td>...</td>\n",
       "      <td>9.0</td>\n",
       "      <td>NaN</td>\n",
       "      <td>14.0</td>\n",
       "      <td>100.0</td>\n",
       "      <td>0.0</td>\n",
       "      <td>0.0</td>\n",
       "      <td>100.0</td>\n",
       "      <td>NaN</td>\n",
       "      <td>200.0</td>\n",
       "      <td>Neg</td>\n",
       "    </tr>\n",
       "    <tr>\n",
       "      <th>1</th>\n",
       "      <td>28</td>\n",
       "      <td>3</td>\n",
       "      <td>2021</td>\n",
       "      <td>1100</td>\n",
       "      <td>NaN</td>\n",
       "      <td>NaN</td>\n",
       "      <td>NaN</td>\n",
       "      <td>1.0</td>\n",
       "      <td>1.0</td>\n",
       "      <td>1.0</td>\n",
       "      <td>...</td>\n",
       "      <td>1.0</td>\n",
       "      <td>0.0</td>\n",
       "      <td>200.0</td>\n",
       "      <td>33.0</td>\n",
       "      <td>10.0</td>\n",
       "      <td>17.0</td>\n",
       "      <td>100.0</td>\n",
       "      <td>200.0</td>\n",
       "      <td>160.0</td>\n",
       "      <td>Pos</td>\n",
       "    </tr>\n",
       "    <tr>\n",
       "      <th>2</th>\n",
       "      <td>19</td>\n",
       "      <td>8</td>\n",
       "      <td>2021</td>\n",
       "      <td>1100</td>\n",
       "      <td>NaN</td>\n",
       "      <td>NaN</td>\n",
       "      <td>NaN</td>\n",
       "      <td>1.0</td>\n",
       "      <td>1.0</td>\n",
       "      <td>1.0</td>\n",
       "      <td>...</td>\n",
       "      <td>2.0</td>\n",
       "      <td>0.0</td>\n",
       "      <td>43.0</td>\n",
       "      <td>3.0</td>\n",
       "      <td>7.0</td>\n",
       "      <td>2.0</td>\n",
       "      <td>14.0</td>\n",
       "      <td>43.0</td>\n",
       "      <td>26.0</td>\n",
       "      <td>Neg</td>\n",
       "    </tr>\n",
       "    <tr>\n",
       "      <th>3</th>\n",
       "      <td>27</td>\n",
       "      <td>9</td>\n",
       "      <td>2021</td>\n",
       "      <td>1100</td>\n",
       "      <td>NaN</td>\n",
       "      <td>NaN</td>\n",
       "      <td>NaN</td>\n",
       "      <td>1.0</td>\n",
       "      <td>1.0</td>\n",
       "      <td>1.0</td>\n",
       "      <td>...</td>\n",
       "      <td>1.0</td>\n",
       "      <td>3.0</td>\n",
       "      <td>7.0</td>\n",
       "      <td>29.0</td>\n",
       "      <td>100.0</td>\n",
       "      <td>100.0</td>\n",
       "      <td>50.0</td>\n",
       "      <td>10.0</td>\n",
       "      <td>279.0</td>\n",
       "      <td>Pos</td>\n",
       "    </tr>\n",
       "    <tr>\n",
       "      <th>4</th>\n",
       "      <td>50</td>\n",
       "      <td>4</td>\n",
       "      <td>2021</td>\n",
       "      <td>1100</td>\n",
       "      <td>NaN</td>\n",
       "      <td>NaN</td>\n",
       "      <td>NaN</td>\n",
       "      <td>1.0</td>\n",
       "      <td>1.0</td>\n",
       "      <td>1.0</td>\n",
       "      <td>...</td>\n",
       "      <td>1.0</td>\n",
       "      <td>200.0</td>\n",
       "      <td>500.0</td>\n",
       "      <td>300.0</td>\n",
       "      <td>100.0</td>\n",
       "      <td>500.0</td>\n",
       "      <td>600.0</td>\n",
       "      <td>700.0</td>\n",
       "      <td>1500.0</td>\n",
       "      <td>Pos</td>\n",
       "    </tr>\n",
       "    <tr>\n",
       "      <th>...</th>\n",
       "      <td>...</td>\n",
       "      <td>...</td>\n",
       "      <td>...</td>\n",
       "      <td>...</td>\n",
       "      <td>...</td>\n",
       "      <td>...</td>\n",
       "      <td>...</td>\n",
       "      <td>...</td>\n",
       "      <td>...</td>\n",
       "      <td>...</td>\n",
       "      <td>...</td>\n",
       "      <td>...</td>\n",
       "      <td>...</td>\n",
       "      <td>...</td>\n",
       "      <td>...</td>\n",
       "      <td>...</td>\n",
       "      <td>...</td>\n",
       "      <td>...</td>\n",
       "      <td>...</td>\n",
       "      <td>...</td>\n",
       "      <td>...</td>\n",
       "    </tr>\n",
       "    <tr>\n",
       "      <th>65797</th>\n",
       "      <td>49</td>\n",
       "      <td>7</td>\n",
       "      <td>2021</td>\n",
       "      <td>1100</td>\n",
       "      <td>NaN</td>\n",
       "      <td>NaN</td>\n",
       "      <td>NaN</td>\n",
       "      <td>1.0</td>\n",
       "      <td>1.0</td>\n",
       "      <td>1.0</td>\n",
       "      <td>...</td>\n",
       "      <td>2.0</td>\n",
       "      <td>7.0</td>\n",
       "      <td>300.0</td>\n",
       "      <td>14.0</td>\n",
       "      <td>14.0</td>\n",
       "      <td>43.0</td>\n",
       "      <td>300.0</td>\n",
       "      <td>307.0</td>\n",
       "      <td>371.0</td>\n",
       "      <td>Neg</td>\n",
       "    </tr>\n",
       "    <tr>\n",
       "      <th>65798</th>\n",
       "      <td>8</td>\n",
       "      <td>10</td>\n",
       "      <td>2021</td>\n",
       "      <td>1100</td>\n",
       "      <td>NaN</td>\n",
       "      <td>NaN</td>\n",
       "      <td>NaN</td>\n",
       "      <td>1.0</td>\n",
       "      <td>1.0</td>\n",
       "      <td>1.0</td>\n",
       "      <td>...</td>\n",
       "      <td>1.0</td>\n",
       "      <td>3.0</td>\n",
       "      <td>10.0</td>\n",
       "      <td>13.0</td>\n",
       "      <td>7.0</td>\n",
       "      <td>3.0</td>\n",
       "      <td>83.0</td>\n",
       "      <td>13.0</td>\n",
       "      <td>106.0</td>\n",
       "      <td>Neg</td>\n",
       "    </tr>\n",
       "    <tr>\n",
       "      <th>65799</th>\n",
       "      <td>50</td>\n",
       "      <td>7</td>\n",
       "      <td>2021</td>\n",
       "      <td>1100</td>\n",
       "      <td>NaN</td>\n",
       "      <td>NaN</td>\n",
       "      <td>NaN</td>\n",
       "      <td>1.0</td>\n",
       "      <td>1.0</td>\n",
       "      <td>1.0</td>\n",
       "      <td>...</td>\n",
       "      <td>2.0</td>\n",
       "      <td>13.0</td>\n",
       "      <td>200.0</td>\n",
       "      <td>100.0</td>\n",
       "      <td>14.0</td>\n",
       "      <td>29.0</td>\n",
       "      <td>100.0</td>\n",
       "      <td>213.0</td>\n",
       "      <td>243.0</td>\n",
       "      <td>Neg</td>\n",
       "    </tr>\n",
       "    <tr>\n",
       "      <th>65800</th>\n",
       "      <td>18</td>\n",
       "      <td>6</td>\n",
       "      <td>2021</td>\n",
       "      <td>1100</td>\n",
       "      <td>NaN</td>\n",
       "      <td>NaN</td>\n",
       "      <td>NaN</td>\n",
       "      <td>1.0</td>\n",
       "      <td>1.0</td>\n",
       "      <td>1.0</td>\n",
       "      <td>...</td>\n",
       "      <td>1.0</td>\n",
       "      <td>100.0</td>\n",
       "      <td>43.0</td>\n",
       "      <td>14.0</td>\n",
       "      <td>57.0</td>\n",
       "      <td>14.0</td>\n",
       "      <td>100.0</td>\n",
       "      <td>143.0</td>\n",
       "      <td>185.0</td>\n",
       "      <td>Neg</td>\n",
       "    </tr>\n",
       "    <tr>\n",
       "      <th>65801</th>\n",
       "      <td>31</td>\n",
       "      <td>7</td>\n",
       "      <td>2021</td>\n",
       "      <td>1100</td>\n",
       "      <td>NaN</td>\n",
       "      <td>NaN</td>\n",
       "      <td>NaN</td>\n",
       "      <td>1.0</td>\n",
       "      <td>1.0</td>\n",
       "      <td>1.0</td>\n",
       "      <td>...</td>\n",
       "      <td>2.0</td>\n",
       "      <td>29.0</td>\n",
       "      <td>57.0</td>\n",
       "      <td>14.0</td>\n",
       "      <td>57.0</td>\n",
       "      <td>14.0</td>\n",
       "      <td>100.0</td>\n",
       "      <td>86.0</td>\n",
       "      <td>185.0</td>\n",
       "      <td>Neg</td>\n",
       "    </tr>\n",
       "  </tbody>\n",
       "</table>\n",
       "<p>65802 rows × 128 columns</p>\n",
       "</div>"
      ],
      "text/plain": [
       "       X_STATE  IMONTH  IYEAR  DISPCODE  PVTRESD1 COLGHOUS  LADULT1  CTELNUM1  \\\n",
       "0           29      11   2021      1100       NaN      NaN      NaN       1.0   \n",
       "1           28       3   2021      1100       NaN      NaN      NaN       1.0   \n",
       "2           19       8   2021      1100       NaN      NaN      NaN       1.0   \n",
       "3           27       9   2021      1100       NaN      NaN      NaN       1.0   \n",
       "4           50       4   2021      1100       NaN      NaN      NaN       1.0   \n",
       "...        ...     ...    ...       ...       ...      ...      ...       ...   \n",
       "65797       49       7   2021      1100       NaN      NaN      NaN       1.0   \n",
       "65798        8      10   2021      1100       NaN      NaN      NaN       1.0   \n",
       "65799       50       7   2021      1100       NaN      NaN      NaN       1.0   \n",
       "65800       18       6   2021      1100       NaN      NaN      NaN       1.0   \n",
       "65801       31       7   2021      1100       NaN      NaN      NaN       1.0   \n",
       "\n",
       "       CADULT1  PVTRESD3  ...  X_AIDTST4  FTJUDA2_  FRUTDA2_  GRENDA1_  \\\n",
       "0          1.0       1.0  ...        9.0       NaN      14.0     100.0   \n",
       "1          1.0       1.0  ...        1.0       0.0     200.0      33.0   \n",
       "2          1.0       1.0  ...        2.0       0.0      43.0       3.0   \n",
       "3          1.0       1.0  ...        1.0       3.0       7.0      29.0   \n",
       "4          1.0       1.0  ...        1.0     200.0     500.0     300.0   \n",
       "...        ...       ...  ...        ...       ...       ...       ...   \n",
       "65797      1.0       1.0  ...        2.0       7.0     300.0      14.0   \n",
       "65798      1.0       1.0  ...        1.0       3.0      10.0      13.0   \n",
       "65799      1.0       1.0  ...        2.0      13.0     200.0     100.0   \n",
       "65800      1.0       1.0  ...        1.0     100.0      43.0      14.0   \n",
       "65801      1.0       1.0  ...        2.0      29.0      57.0      14.0   \n",
       "\n",
       "       FRNCHDA_  POTADA1_  VEGEDA2_  X_FRUTSU1  X_VEGESU1  Outcome  \n",
       "0           0.0       0.0     100.0        NaN      200.0      Neg  \n",
       "1          10.0      17.0     100.0      200.0      160.0      Pos  \n",
       "2           7.0       2.0      14.0       43.0       26.0      Neg  \n",
       "3         100.0     100.0      50.0       10.0      279.0      Pos  \n",
       "4         100.0     500.0     600.0      700.0     1500.0      Pos  \n",
       "...         ...       ...       ...        ...        ...      ...  \n",
       "65797      14.0      43.0     300.0      307.0      371.0      Neg  \n",
       "65798       7.0       3.0      83.0       13.0      106.0      Neg  \n",
       "65799      14.0      29.0     100.0      213.0      243.0      Neg  \n",
       "65800      57.0      14.0     100.0      143.0      185.0      Neg  \n",
       "65801      57.0      14.0     100.0       86.0      185.0      Neg  \n",
       "\n",
       "[65802 rows x 128 columns]"
      ]
     },
     "execution_count": 3,
     "metadata": {},
     "output_type": "execute_result"
    }
   ],
   "source": [
    "data"
   ]
  },
  {
   "cell_type": "code",
   "execution_count": 4,
   "id": "d204a8a8",
   "metadata": {},
   "outputs": [
    {
     "data": {
      "text/plain": [
       "(65802, 128)"
      ]
     },
     "execution_count": 4,
     "metadata": {},
     "output_type": "execute_result"
    }
   ],
   "source": [
    "data.shape"
   ]
  },
  {
   "cell_type": "code",
   "execution_count": 5,
   "id": "547e4c8f",
   "metadata": {},
   "outputs": [
    {
     "name": "stdout",
     "output_type": "stream",
     "text": [
      "<class 'pandas.core.frame.DataFrame'>\n",
      "RangeIndex: 65802 entries, 0 to 65801\n",
      "Columns: 128 entries, X_STATE to Outcome\n",
      "dtypes: float64(78), int64(48), object(2)\n",
      "memory usage: 64.3+ MB\n"
     ]
    }
   ],
   "source": [
    "data.info()"
   ]
  },
  {
   "cell_type": "markdown",
   "id": "e819e2c4",
   "metadata": {},
   "source": [
    "# DATA CLEANING "
   ]
  },
  {
   "cell_type": "markdown",
   "id": "15f7bd3e",
   "metadata": {},
   "source": [
    "### Change the headers to lowercase"
   ]
  },
  {
   "cell_type": "code",
   "execution_count": 6,
   "id": "6c755590",
   "metadata": {},
   "outputs": [],
   "source": [
    "data.columns = data.columns.str.lower()"
   ]
  },
  {
   "cell_type": "code",
   "execution_count": 7,
   "id": "2c639b37",
   "metadata": {},
   "outputs": [
    {
     "data": {
      "text/html": [
       "<div>\n",
       "<style scoped>\n",
       "    .dataframe tbody tr th:only-of-type {\n",
       "        vertical-align: middle;\n",
       "    }\n",
       "\n",
       "    .dataframe tbody tr th {\n",
       "        vertical-align: top;\n",
       "    }\n",
       "\n",
       "    .dataframe thead th {\n",
       "        text-align: right;\n",
       "    }\n",
       "</style>\n",
       "<table border=\"1\" class=\"dataframe\">\n",
       "  <thead>\n",
       "    <tr style=\"text-align: right;\">\n",
       "      <th></th>\n",
       "      <th>x_state</th>\n",
       "      <th>imonth</th>\n",
       "      <th>iyear</th>\n",
       "      <th>dispcode</th>\n",
       "      <th>pvtresd1</th>\n",
       "      <th>colghous</th>\n",
       "      <th>ladult1</th>\n",
       "      <th>ctelnum1</th>\n",
       "      <th>cadult1</th>\n",
       "      <th>pvtresd3</th>\n",
       "      <th>...</th>\n",
       "      <th>x_aidtst4</th>\n",
       "      <th>ftjuda2_</th>\n",
       "      <th>frutda2_</th>\n",
       "      <th>grenda1_</th>\n",
       "      <th>frnchda_</th>\n",
       "      <th>potada1_</th>\n",
       "      <th>vegeda2_</th>\n",
       "      <th>x_frutsu1</th>\n",
       "      <th>x_vegesu1</th>\n",
       "      <th>outcome</th>\n",
       "    </tr>\n",
       "  </thead>\n",
       "  <tbody>\n",
       "    <tr>\n",
       "      <th>0</th>\n",
       "      <td>29</td>\n",
       "      <td>11</td>\n",
       "      <td>2021</td>\n",
       "      <td>1100</td>\n",
       "      <td>NaN</td>\n",
       "      <td>NaN</td>\n",
       "      <td>NaN</td>\n",
       "      <td>1.0</td>\n",
       "      <td>1.0</td>\n",
       "      <td>1.0</td>\n",
       "      <td>...</td>\n",
       "      <td>9.0</td>\n",
       "      <td>NaN</td>\n",
       "      <td>14.0</td>\n",
       "      <td>100.0</td>\n",
       "      <td>0.0</td>\n",
       "      <td>0.0</td>\n",
       "      <td>100.0</td>\n",
       "      <td>NaN</td>\n",
       "      <td>200.0</td>\n",
       "      <td>Neg</td>\n",
       "    </tr>\n",
       "    <tr>\n",
       "      <th>1</th>\n",
       "      <td>28</td>\n",
       "      <td>3</td>\n",
       "      <td>2021</td>\n",
       "      <td>1100</td>\n",
       "      <td>NaN</td>\n",
       "      <td>NaN</td>\n",
       "      <td>NaN</td>\n",
       "      <td>1.0</td>\n",
       "      <td>1.0</td>\n",
       "      <td>1.0</td>\n",
       "      <td>...</td>\n",
       "      <td>1.0</td>\n",
       "      <td>0.0</td>\n",
       "      <td>200.0</td>\n",
       "      <td>33.0</td>\n",
       "      <td>10.0</td>\n",
       "      <td>17.0</td>\n",
       "      <td>100.0</td>\n",
       "      <td>200.0</td>\n",
       "      <td>160.0</td>\n",
       "      <td>Pos</td>\n",
       "    </tr>\n",
       "    <tr>\n",
       "      <th>2</th>\n",
       "      <td>19</td>\n",
       "      <td>8</td>\n",
       "      <td>2021</td>\n",
       "      <td>1100</td>\n",
       "      <td>NaN</td>\n",
       "      <td>NaN</td>\n",
       "      <td>NaN</td>\n",
       "      <td>1.0</td>\n",
       "      <td>1.0</td>\n",
       "      <td>1.0</td>\n",
       "      <td>...</td>\n",
       "      <td>2.0</td>\n",
       "      <td>0.0</td>\n",
       "      <td>43.0</td>\n",
       "      <td>3.0</td>\n",
       "      <td>7.0</td>\n",
       "      <td>2.0</td>\n",
       "      <td>14.0</td>\n",
       "      <td>43.0</td>\n",
       "      <td>26.0</td>\n",
       "      <td>Neg</td>\n",
       "    </tr>\n",
       "    <tr>\n",
       "      <th>3</th>\n",
       "      <td>27</td>\n",
       "      <td>9</td>\n",
       "      <td>2021</td>\n",
       "      <td>1100</td>\n",
       "      <td>NaN</td>\n",
       "      <td>NaN</td>\n",
       "      <td>NaN</td>\n",
       "      <td>1.0</td>\n",
       "      <td>1.0</td>\n",
       "      <td>1.0</td>\n",
       "      <td>...</td>\n",
       "      <td>1.0</td>\n",
       "      <td>3.0</td>\n",
       "      <td>7.0</td>\n",
       "      <td>29.0</td>\n",
       "      <td>100.0</td>\n",
       "      <td>100.0</td>\n",
       "      <td>50.0</td>\n",
       "      <td>10.0</td>\n",
       "      <td>279.0</td>\n",
       "      <td>Pos</td>\n",
       "    </tr>\n",
       "    <tr>\n",
       "      <th>4</th>\n",
       "      <td>50</td>\n",
       "      <td>4</td>\n",
       "      <td>2021</td>\n",
       "      <td>1100</td>\n",
       "      <td>NaN</td>\n",
       "      <td>NaN</td>\n",
       "      <td>NaN</td>\n",
       "      <td>1.0</td>\n",
       "      <td>1.0</td>\n",
       "      <td>1.0</td>\n",
       "      <td>...</td>\n",
       "      <td>1.0</td>\n",
       "      <td>200.0</td>\n",
       "      <td>500.0</td>\n",
       "      <td>300.0</td>\n",
       "      <td>100.0</td>\n",
       "      <td>500.0</td>\n",
       "      <td>600.0</td>\n",
       "      <td>700.0</td>\n",
       "      <td>1500.0</td>\n",
       "      <td>Pos</td>\n",
       "    </tr>\n",
       "    <tr>\n",
       "      <th>...</th>\n",
       "      <td>...</td>\n",
       "      <td>...</td>\n",
       "      <td>...</td>\n",
       "      <td>...</td>\n",
       "      <td>...</td>\n",
       "      <td>...</td>\n",
       "      <td>...</td>\n",
       "      <td>...</td>\n",
       "      <td>...</td>\n",
       "      <td>...</td>\n",
       "      <td>...</td>\n",
       "      <td>...</td>\n",
       "      <td>...</td>\n",
       "      <td>...</td>\n",
       "      <td>...</td>\n",
       "      <td>...</td>\n",
       "      <td>...</td>\n",
       "      <td>...</td>\n",
       "      <td>...</td>\n",
       "      <td>...</td>\n",
       "      <td>...</td>\n",
       "    </tr>\n",
       "    <tr>\n",
       "      <th>65797</th>\n",
       "      <td>49</td>\n",
       "      <td>7</td>\n",
       "      <td>2021</td>\n",
       "      <td>1100</td>\n",
       "      <td>NaN</td>\n",
       "      <td>NaN</td>\n",
       "      <td>NaN</td>\n",
       "      <td>1.0</td>\n",
       "      <td>1.0</td>\n",
       "      <td>1.0</td>\n",
       "      <td>...</td>\n",
       "      <td>2.0</td>\n",
       "      <td>7.0</td>\n",
       "      <td>300.0</td>\n",
       "      <td>14.0</td>\n",
       "      <td>14.0</td>\n",
       "      <td>43.0</td>\n",
       "      <td>300.0</td>\n",
       "      <td>307.0</td>\n",
       "      <td>371.0</td>\n",
       "      <td>Neg</td>\n",
       "    </tr>\n",
       "    <tr>\n",
       "      <th>65798</th>\n",
       "      <td>8</td>\n",
       "      <td>10</td>\n",
       "      <td>2021</td>\n",
       "      <td>1100</td>\n",
       "      <td>NaN</td>\n",
       "      <td>NaN</td>\n",
       "      <td>NaN</td>\n",
       "      <td>1.0</td>\n",
       "      <td>1.0</td>\n",
       "      <td>1.0</td>\n",
       "      <td>...</td>\n",
       "      <td>1.0</td>\n",
       "      <td>3.0</td>\n",
       "      <td>10.0</td>\n",
       "      <td>13.0</td>\n",
       "      <td>7.0</td>\n",
       "      <td>3.0</td>\n",
       "      <td>83.0</td>\n",
       "      <td>13.0</td>\n",
       "      <td>106.0</td>\n",
       "      <td>Neg</td>\n",
       "    </tr>\n",
       "    <tr>\n",
       "      <th>65799</th>\n",
       "      <td>50</td>\n",
       "      <td>7</td>\n",
       "      <td>2021</td>\n",
       "      <td>1100</td>\n",
       "      <td>NaN</td>\n",
       "      <td>NaN</td>\n",
       "      <td>NaN</td>\n",
       "      <td>1.0</td>\n",
       "      <td>1.0</td>\n",
       "      <td>1.0</td>\n",
       "      <td>...</td>\n",
       "      <td>2.0</td>\n",
       "      <td>13.0</td>\n",
       "      <td>200.0</td>\n",
       "      <td>100.0</td>\n",
       "      <td>14.0</td>\n",
       "      <td>29.0</td>\n",
       "      <td>100.0</td>\n",
       "      <td>213.0</td>\n",
       "      <td>243.0</td>\n",
       "      <td>Neg</td>\n",
       "    </tr>\n",
       "    <tr>\n",
       "      <th>65800</th>\n",
       "      <td>18</td>\n",
       "      <td>6</td>\n",
       "      <td>2021</td>\n",
       "      <td>1100</td>\n",
       "      <td>NaN</td>\n",
       "      <td>NaN</td>\n",
       "      <td>NaN</td>\n",
       "      <td>1.0</td>\n",
       "      <td>1.0</td>\n",
       "      <td>1.0</td>\n",
       "      <td>...</td>\n",
       "      <td>1.0</td>\n",
       "      <td>100.0</td>\n",
       "      <td>43.0</td>\n",
       "      <td>14.0</td>\n",
       "      <td>57.0</td>\n",
       "      <td>14.0</td>\n",
       "      <td>100.0</td>\n",
       "      <td>143.0</td>\n",
       "      <td>185.0</td>\n",
       "      <td>Neg</td>\n",
       "    </tr>\n",
       "    <tr>\n",
       "      <th>65801</th>\n",
       "      <td>31</td>\n",
       "      <td>7</td>\n",
       "      <td>2021</td>\n",
       "      <td>1100</td>\n",
       "      <td>NaN</td>\n",
       "      <td>NaN</td>\n",
       "      <td>NaN</td>\n",
       "      <td>1.0</td>\n",
       "      <td>1.0</td>\n",
       "      <td>1.0</td>\n",
       "      <td>...</td>\n",
       "      <td>2.0</td>\n",
       "      <td>29.0</td>\n",
       "      <td>57.0</td>\n",
       "      <td>14.0</td>\n",
       "      <td>57.0</td>\n",
       "      <td>14.0</td>\n",
       "      <td>100.0</td>\n",
       "      <td>86.0</td>\n",
       "      <td>185.0</td>\n",
       "      <td>Neg</td>\n",
       "    </tr>\n",
       "  </tbody>\n",
       "</table>\n",
       "<p>65802 rows × 128 columns</p>\n",
       "</div>"
      ],
      "text/plain": [
       "       x_state  imonth  iyear  dispcode  pvtresd1 colghous  ladult1  ctelnum1  \\\n",
       "0           29      11   2021      1100       NaN      NaN      NaN       1.0   \n",
       "1           28       3   2021      1100       NaN      NaN      NaN       1.0   \n",
       "2           19       8   2021      1100       NaN      NaN      NaN       1.0   \n",
       "3           27       9   2021      1100       NaN      NaN      NaN       1.0   \n",
       "4           50       4   2021      1100       NaN      NaN      NaN       1.0   \n",
       "...        ...     ...    ...       ...       ...      ...      ...       ...   \n",
       "65797       49       7   2021      1100       NaN      NaN      NaN       1.0   \n",
       "65798        8      10   2021      1100       NaN      NaN      NaN       1.0   \n",
       "65799       50       7   2021      1100       NaN      NaN      NaN       1.0   \n",
       "65800       18       6   2021      1100       NaN      NaN      NaN       1.0   \n",
       "65801       31       7   2021      1100       NaN      NaN      NaN       1.0   \n",
       "\n",
       "       cadult1  pvtresd3  ...  x_aidtst4  ftjuda2_  frutda2_  grenda1_  \\\n",
       "0          1.0       1.0  ...        9.0       NaN      14.0     100.0   \n",
       "1          1.0       1.0  ...        1.0       0.0     200.0      33.0   \n",
       "2          1.0       1.0  ...        2.0       0.0      43.0       3.0   \n",
       "3          1.0       1.0  ...        1.0       3.0       7.0      29.0   \n",
       "4          1.0       1.0  ...        1.0     200.0     500.0     300.0   \n",
       "...        ...       ...  ...        ...       ...       ...       ...   \n",
       "65797      1.0       1.0  ...        2.0       7.0     300.0      14.0   \n",
       "65798      1.0       1.0  ...        1.0       3.0      10.0      13.0   \n",
       "65799      1.0       1.0  ...        2.0      13.0     200.0     100.0   \n",
       "65800      1.0       1.0  ...        1.0     100.0      43.0      14.0   \n",
       "65801      1.0       1.0  ...        2.0      29.0      57.0      14.0   \n",
       "\n",
       "       frnchda_  potada1_  vegeda2_  x_frutsu1  x_vegesu1  outcome  \n",
       "0           0.0       0.0     100.0        NaN      200.0      Neg  \n",
       "1          10.0      17.0     100.0      200.0      160.0      Pos  \n",
       "2           7.0       2.0      14.0       43.0       26.0      Neg  \n",
       "3         100.0     100.0      50.0       10.0      279.0      Pos  \n",
       "4         100.0     500.0     600.0      700.0     1500.0      Pos  \n",
       "...         ...       ...       ...        ...        ...      ...  \n",
       "65797      14.0      43.0     300.0      307.0      371.0      Neg  \n",
       "65798       7.0       3.0      83.0       13.0      106.0      Neg  \n",
       "65799      14.0      29.0     100.0      213.0      243.0      Neg  \n",
       "65800      57.0      14.0     100.0      143.0      185.0      Neg  \n",
       "65801      57.0      14.0     100.0       86.0      185.0      Neg  \n",
       "\n",
       "[65802 rows x 128 columns]"
      ]
     },
     "execution_count": 7,
     "metadata": {},
     "output_type": "execute_result"
    }
   ],
   "source": [
    "data"
   ]
  },
  {
   "cell_type": "markdown",
   "id": "ce4ba9c8",
   "metadata": {},
   "source": [
    "### Drop missing values by columnwise (Condition: 70% headers with null values)"
   ]
  },
  {
   "cell_type": "code",
   "execution_count": 8,
   "id": "2229dee8",
   "metadata": {},
   "outputs": [
    {
     "data": {
      "text/plain": [
       "toldcfs     65802\n",
       "colghous    65798\n",
       "havehepc    65768\n",
       "cclghous    65651\n",
       "psatest1    65472\n",
       "vircolo1    65469\n",
       "stooldn1    65469\n",
       "smalstol    65469\n",
       "csrvdein    65073\n",
       "csrvdoc1    65073\n",
       "csrvinsr    65073\n",
       "crvclpap    64824\n",
       "crvclhpv    64819\n",
       "colnsigm    64714\n",
       "csrvtrt3    64565\n",
       "cncrage     64127\n",
       "cncrtyp1    64127\n",
       "cncrdiff    64099\n",
       "hadhyst2    64063\n",
       "cervscrn    64045\n",
       "hadmam      64045\n",
       "havehepb    63999\n",
       "shingle2    63636\n",
       "hpvadvc4    63468\n",
       "tetanus1    63410\n",
       "rsnmrjn2    62779\n",
       "firearm5    60437\n",
       "lcsctscn    60428\n",
       "cimemlos    60243\n",
       "wtchsalt    59358\n",
       "aceadsaf    55718\n",
       "acedivrc    55718\n",
       "acedrink    55718\n",
       "aceadned    55718\n",
       "aceprisn    55718\n",
       "acedrugs    55718\n",
       "acepunch    55718\n",
       "acehurt1    55718\n",
       "aceswear    55718\n",
       "acetouch    55718\n",
       "dtype: int64"
      ]
     },
     "execution_count": 8,
     "metadata": {},
     "output_type": "execute_result"
    }
   ],
   "source": [
    "# This command shows the columns with missing values in descending order\n",
    "\n",
    "data.isnull().sum().sort_values(ascending=False).head(40)"
   ]
  },
  {
   "cell_type": "code",
   "execution_count": 9,
   "id": "75eb32c7",
   "metadata": {},
   "outputs": [],
   "source": [
    "# This command drops the column with missing values greater or equal to 56000\n",
    "\n",
    "data.dropna(thresh=56000, inplace=True, axis=1)"
   ]
  },
  {
   "cell_type": "code",
   "execution_count": 10,
   "id": "8461e809",
   "metadata": {},
   "outputs": [
    {
     "data": {
      "text/plain": [
       "(65802, 68)"
      ]
     },
     "execution_count": 10,
     "metadata": {},
     "output_type": "execute_result"
    }
   ],
   "source": [
    "# The .shape attribute shows the structure of the new table after dropping the 'NaN' columns\n",
    "\n",
    "data.shape"
   ]
  },
  {
   "cell_type": "markdown",
   "id": "273d1453",
   "metadata": {},
   "source": [
    "### Check and drop duplicates if any"
   ]
  },
  {
   "cell_type": "code",
   "execution_count": 11,
   "id": "011eff60",
   "metadata": {},
   "outputs": [
    {
     "data": {
      "text/plain": [
       "0"
      ]
     },
     "execution_count": 11,
     "metadata": {},
     "output_type": "execute_result"
    }
   ],
   "source": [
    "data.duplicated().sum()"
   ]
  },
  {
   "cell_type": "markdown",
   "id": "57fd83f7",
   "metadata": {},
   "source": [
    "### Data Imputation for Missing values"
   ]
  },
  {
   "cell_type": "code",
   "execution_count": 12,
   "id": "6a49f4ef",
   "metadata": {},
   "outputs": [],
   "source": [
    "# Recheck for null values columns"
   ]
  },
  {
   "cell_type": "code",
   "execution_count": 13,
   "id": "4c807d79",
   "metadata": {},
   "outputs": [
    {
     "data": {
      "text/plain": [
       "x_rfchol3    8807\n",
       "toldhi3      8761\n",
       "x_bmi5cat    4387\n",
       "x_vegesu1    2972\n",
       "x_frutsu1    2201\n",
       "frutda2_     1364\n",
       "potada1_     1342\n",
       "ftjuda2_     1200\n",
       "vegeda2_     1164\n",
       "grenda1_     1059\n",
       "x_urbstat    1032\n",
       "x_metstat    1032\n",
       "frnchda_      944\n",
       "x_michd       746\n",
       "x_drdxar3     414\n",
       "x_lmtwrk3     414\n",
       "x_lmtact3     414\n",
       "x_aidtst4       1\n",
       "medcost1        1\n",
       "x_cholch3       0\n",
       "dtype: int64"
      ]
     },
     "execution_count": 13,
     "metadata": {},
     "output_type": "execute_result"
    }
   ],
   "source": [
    "# The statement shows the remaining columns with missing values (less than 70%)\n",
    "\n",
    "data.isnull().sum().sort_values(ascending=False).head(20)"
   ]
  },
  {
   "cell_type": "markdown",
   "id": "85dc51dc",
   "metadata": {},
   "source": [
    "### Column 1."
   ]
  },
  {
   "cell_type": "code",
   "execution_count": 14,
   "id": "2e6e39f5",
   "metadata": {},
   "outputs": [
    {
     "data": {
      "text/plain": [
       "1.0    31774\n",
       "2.0    24741\n",
       "9.0      480\n",
       "Name: x_rfchol3, dtype: int64"
      ]
     },
     "execution_count": 14,
     "metadata": {},
     "output_type": "execute_result"
    }
   ],
   "source": [
    "# Count the frequency of the non-null values in the column\n",
    "\n",
    "data['x_rfchol3'].value_counts()"
   ]
  },
  {
   "cell_type": "code",
   "execution_count": 15,
   "id": "30e951fd",
   "metadata": {},
   "outputs": [],
   "source": [
    "# The command fills the 'NaN' cells with the highest frequency value.\n",
    "\n",
    "data['x_rfchol3'].fillna(1, inplace=True)"
   ]
  },
  {
   "cell_type": "code",
   "execution_count": 16,
   "id": "96822ad6",
   "metadata": {},
   "outputs": [
    {
     "data": {
      "text/plain": [
       "0"
      ]
     },
     "execution_count": 16,
     "metadata": {},
     "output_type": "execute_result"
    }
   ],
   "source": [
    "\n",
    "\n",
    "data['x_rfchol3'].isnull().sum()"
   ]
  },
  {
   "cell_type": "markdown",
   "id": "e3478b7e",
   "metadata": {},
   "source": [
    "### For Column 2."
   ]
  },
  {
   "cell_type": "code",
   "execution_count": 17,
   "id": "2726b824",
   "metadata": {},
   "outputs": [
    {
     "data": {
      "text/plain": [
       "array([ 1.,  2., nan,  7.,  9.])"
      ]
     },
     "execution_count": 17,
     "metadata": {},
     "output_type": "execute_result"
    }
   ],
   "source": [
    "# Same process repeated for this column\n",
    "\n",
    "data['toldhi3'].unique()"
   ]
  },
  {
   "cell_type": "code",
   "execution_count": 18,
   "id": "2ea252bc",
   "metadata": {},
   "outputs": [
    {
     "data": {
      "text/plain": [
       "2.0    31819\n",
       "1.0    24742\n",
       "7.0      434\n",
       "9.0       46\n",
       "Name: toldhi3, dtype: int64"
      ]
     },
     "execution_count": 18,
     "metadata": {},
     "output_type": "execute_result"
    }
   ],
   "source": [
    "data['toldhi3'].value_counts()"
   ]
  },
  {
   "cell_type": "code",
   "execution_count": 19,
   "id": "f072ccbd",
   "metadata": {},
   "outputs": [],
   "source": [
    "data['toldhi3'].fillna(2, inplace=True)"
   ]
  },
  {
   "cell_type": "code",
   "execution_count": 20,
   "id": "7f60bf73",
   "metadata": {},
   "outputs": [
    {
     "data": {
      "text/plain": [
       "0"
      ]
     },
     "execution_count": 20,
     "metadata": {},
     "output_type": "execute_result"
    }
   ],
   "source": [
    "data['toldhi3'].isnull().sum()"
   ]
  },
  {
   "cell_type": "markdown",
   "id": "bcab9582",
   "metadata": {},
   "source": [
    "### Column 3"
   ]
  },
  {
   "cell_type": "code",
   "execution_count": 21,
   "id": "b1b34a72",
   "metadata": {},
   "outputs": [
    {
     "data": {
      "text/plain": [
       "array([ 4.,  3.,  1.,  2., nan])"
      ]
     },
     "execution_count": 21,
     "metadata": {},
     "output_type": "execute_result"
    }
   ],
   "source": [
    "data['x_bmi5cat'].unique()"
   ]
  },
  {
   "cell_type": "code",
   "execution_count": 22,
   "id": "32091751",
   "metadata": {},
   "outputs": [
    {
     "data": {
      "text/plain": [
       "4.0    23041\n",
       "3.0    20362\n",
       "2.0    16965\n",
       "1.0     1047\n",
       "Name: x_bmi5cat, dtype: int64"
      ]
     },
     "execution_count": 22,
     "metadata": {},
     "output_type": "execute_result"
    }
   ],
   "source": [
    "data['x_bmi5cat'].value_counts()"
   ]
  },
  {
   "cell_type": "code",
   "execution_count": 23,
   "id": "28c1e0f1",
   "metadata": {},
   "outputs": [],
   "source": [
    "data['x_bmi5cat'].fillna(4.0, inplace=True)"
   ]
  },
  {
   "cell_type": "markdown",
   "id": "e5353049",
   "metadata": {},
   "source": [
    "### Column 4"
   ]
  },
  {
   "cell_type": "code",
   "execution_count": 24,
   "id": "7635d7d1",
   "metadata": {},
   "outputs": [
    {
     "data": {
      "text/plain": [
       "array([  200.,   160.,    26., ..., 10207., 11502.,   791.])"
      ]
     },
     "execution_count": 24,
     "metadata": {},
     "output_type": "execute_result"
    }
   ],
   "source": [
    "data['x_vegesu1'].unique()"
   ]
  },
  {
   "cell_type": "code",
   "execution_count": 25,
   "id": "321d3924",
   "metadata": {},
   "outputs": [
    {
     "data": {
      "text/plain": [
       "200.0    1441\n",
       "157.0    1351\n",
       "143.0    1092\n",
       "186.0     986\n",
       "100.0     984\n",
       "214.0     954\n",
       "243.0     866\n",
       "171.0     849\n",
       "114.0     826\n",
       "172.0     772\n",
       "228.0     755\n",
       "129.0     731\n",
       "86.0      692\n",
       "128.0     662\n",
       "150.0     620\n",
       "142.0     604\n",
       "257.0     584\n",
       "300.0     564\n",
       "229.0     558\n",
       "217.0     501\n",
       "Name: x_vegesu1, dtype: int64"
      ]
     },
     "execution_count": 25,
     "metadata": {},
     "output_type": "execute_result"
    }
   ],
   "source": [
    "data['x_vegesu1'].value_counts().head(20)"
   ]
  },
  {
   "cell_type": "markdown",
   "id": "4ac2d808",
   "metadata": {},
   "source": [
    "#### Obtain the statistics of the column"
   ]
  },
  {
   "cell_type": "code",
   "execution_count": 26,
   "id": "4fbe1d8d",
   "metadata": {},
   "outputs": [
    {
     "data": {
      "text/plain": [
       "count    62830.000000\n",
       "mean       264.306653\n",
       "std       1008.580317\n",
       "min          0.000000\n",
       "25%        113.000000\n",
       "50%        163.000000\n",
       "75%        229.000000\n",
       "max      31114.000000\n",
       "Name: x_vegesu1, dtype: float64"
      ]
     },
     "execution_count": 26,
     "metadata": {},
     "output_type": "execute_result"
    }
   ],
   "source": [
    "data['x_vegesu1'].describe()"
   ]
  },
  {
   "cell_type": "code",
   "execution_count": 27,
   "id": "eecb5d02",
   "metadata": {},
   "outputs": [],
   "source": [
    "import math"
   ]
  },
  {
   "cell_type": "code",
   "execution_count": 28,
   "id": "102f164f",
   "metadata": {},
   "outputs": [],
   "source": [
    "# Fill the missing values with the median since the Q3 value is still less than the mean value\n",
    "\n",
    "data['x_vegesu1'].fillna(math.ceil(data['x_vegesu1'].median()), inplace=True)"
   ]
  },
  {
   "cell_type": "code",
   "execution_count": 29,
   "id": "2c7f63de",
   "metadata": {},
   "outputs": [
    {
     "data": {
      "text/plain": [
       "0"
      ]
     },
     "execution_count": 29,
     "metadata": {},
     "output_type": "execute_result"
    }
   ],
   "source": [
    "data['x_vegesu1'].isnull().sum()"
   ]
  },
  {
   "cell_type": "markdown",
   "id": "71f61677",
   "metadata": {},
   "source": [
    "### Column 5"
   ]
  },
  {
   "cell_type": "code",
   "execution_count": 30,
   "id": "bc7e6bbc",
   "metadata": {},
   "outputs": [],
   "source": [
    "data['x_frutsu1'].fillna(math.ceil(data['x_vegesu1'].mean()), inplace=True)"
   ]
  },
  {
   "cell_type": "markdown",
   "id": "352f9e39",
   "metadata": {},
   "source": [
    "### Column 6"
   ]
  },
  {
   "cell_type": "code",
   "execution_count": 31,
   "id": "393509f8",
   "metadata": {},
   "outputs": [
    {
     "data": {
      "text/plain": [
       "100.0     18693\n",
       "200.0      9380\n",
       "43.0       5936\n",
       "29.0       4485\n",
       "57.0       3481\n",
       "          ...  \n",
       "1329.0        1\n",
       "9200.0        1\n",
       "183.0         1\n",
       "217.0         1\n",
       "120.0         1\n",
       "Name: frutda2_, Length: 97, dtype: int64"
      ]
     },
     "execution_count": 31,
     "metadata": {},
     "output_type": "execute_result"
    }
   ],
   "source": [
    "data['frutda2_'].value_counts().sort_values(ascending=False)"
   ]
  },
  {
   "cell_type": "markdown",
   "id": "2e41486c",
   "metadata": {},
   "source": [
    "### Checking the descrptive statistics of the columns for Outlier detection"
   ]
  },
  {
   "cell_type": "code",
   "execution_count": 32,
   "id": "2ac1ccf4",
   "metadata": {},
   "outputs": [
    {
     "data": {
      "text/plain": [
       "count    64438.000000\n",
       "mean       128.386573\n",
       "std        476.877974\n",
       "min          0.000000\n",
       "25%         33.000000\n",
       "50%        100.000000\n",
       "75%        100.000000\n",
       "max       9900.000000\n",
       "Name: frutda2_, dtype: float64"
      ]
     },
     "execution_count": 32,
     "metadata": {},
     "output_type": "execute_result"
    }
   ],
   "source": [
    "data['frutda2_'].describe()"
   ]
  },
  {
   "cell_type": "code",
   "execution_count": 33,
   "id": "4a7c17c1",
   "metadata": {},
   "outputs": [],
   "source": [
    "data['frutda2_'].fillna(math.ceil(data['x_vegesu1'].median()), inplace=True)"
   ]
  },
  {
   "cell_type": "code",
   "execution_count": 34,
   "id": "cf8d4f24",
   "metadata": {},
   "outputs": [
    {
     "data": {
      "text/plain": [
       "0"
      ]
     },
     "execution_count": 34,
     "metadata": {},
     "output_type": "execute_result"
    }
   ],
   "source": [
    "data['frutda2_'].isnull().sum()"
   ]
  },
  {
   "cell_type": "markdown",
   "id": "9e82b7eb",
   "metadata": {},
   "source": [
    "### Column 7"
   ]
  },
  {
   "cell_type": "code",
   "execution_count": 35,
   "id": "598c844c",
   "metadata": {},
   "outputs": [
    {
     "data": {
      "text/plain": [
       "count    64460.000000\n",
       "mean        27.999271\n",
       "std        174.626928\n",
       "min          0.000000\n",
       "25%          7.000000\n",
       "50%         14.000000\n",
       "75%         29.000000\n",
       "max       9900.000000\n",
       "Name: potada1_, dtype: float64"
      ]
     },
     "execution_count": 35,
     "metadata": {},
     "output_type": "execute_result"
    }
   ],
   "source": [
    "data['potada1_'].describe()"
   ]
  },
  {
   "cell_type": "code",
   "execution_count": 36,
   "id": "ca41901b",
   "metadata": {},
   "outputs": [],
   "source": [
    "data['potada1_'].fillna(math.ceil(data['potada1_'].median()), inplace=True)"
   ]
  },
  {
   "cell_type": "markdown",
   "id": "36de6ce7",
   "metadata": {},
   "source": [
    "### Column 8\n"
   ]
  },
  {
   "cell_type": "code",
   "execution_count": 37,
   "id": "455dd3b4",
   "metadata": {},
   "outputs": [
    {
     "data": {
      "text/plain": [
       "count    64602.000000\n",
       "mean        41.568063\n",
       "std        339.262393\n",
       "min          0.000000\n",
       "25%          0.000000\n",
       "50%          3.000000\n",
       "75%         29.000000\n",
       "max       9900.000000\n",
       "Name: ftjuda2_, dtype: float64"
      ]
     },
     "execution_count": 37,
     "metadata": {},
     "output_type": "execute_result"
    }
   ],
   "source": [
    "data['ftjuda2_'].describe()"
   ]
  },
  {
   "cell_type": "code",
   "execution_count": 38,
   "id": "81f3e737",
   "metadata": {},
   "outputs": [],
   "source": [
    "data['ftjuda2_'].fillna(math.ceil(data['ftjuda2_'].median()), inplace=True)"
   ]
  },
  {
   "cell_type": "markdown",
   "id": "22e17593",
   "metadata": {},
   "source": [
    "### Column 8"
   ]
  },
  {
   "cell_type": "code",
   "execution_count": 39,
   "id": "b0c803af",
   "metadata": {},
   "outputs": [
    {
     "data": {
      "text/plain": [
       "count    64638.000000\n",
       "mean       136.077137\n",
       "std        635.572993\n",
       "min          0.000000\n",
       "25%         43.000000\n",
       "50%         86.000000\n",
       "75%        100.000000\n",
       "max       9900.000000\n",
       "Name: vegeda2_, dtype: float64"
      ]
     },
     "execution_count": 39,
     "metadata": {},
     "output_type": "execute_result"
    }
   ],
   "source": [
    "data['vegeda2_'].describe()"
   ]
  },
  {
   "cell_type": "code",
   "execution_count": 40,
   "id": "44f6d802",
   "metadata": {},
   "outputs": [],
   "source": [
    "data['vegeda2_'].fillna(math.ceil(data['vegeda2_'].median()), inplace=True)"
   ]
  },
  {
   "cell_type": "markdown",
   "id": "311316fe",
   "metadata": {},
   "source": [
    "### Column 9"
   ]
  },
  {
   "cell_type": "code",
   "execution_count": 41,
   "id": "0b004788",
   "metadata": {},
   "outputs": [
    {
     "data": {
      "text/plain": [
       "count    64743.000000\n",
       "mean        73.972707\n",
       "std        444.336897\n",
       "min          0.000000\n",
       "25%         14.000000\n",
       "50%         43.000000\n",
       "75%         71.000000\n",
       "max       9900.000000\n",
       "Name: grenda1_, dtype: float64"
      ]
     },
     "execution_count": 41,
     "metadata": {},
     "output_type": "execute_result"
    }
   ],
   "source": [
    "data['grenda1_'].describe()"
   ]
  },
  {
   "cell_type": "code",
   "execution_count": 42,
   "id": "5dc7156b",
   "metadata": {},
   "outputs": [],
   "source": [
    "data['grenda1_'].fillna(math.ceil(data['grenda1_'].median()), inplace=True)"
   ]
  },
  {
   "cell_type": "markdown",
   "id": "7df24cec",
   "metadata": {},
   "source": [
    "### Column 10"
   ]
  },
  {
   "cell_type": "code",
   "execution_count": 43,
   "id": "8cc02f11",
   "metadata": {},
   "outputs": [
    {
     "data": {
      "text/plain": [
       "1.0    55086\n",
       "2.0     9684\n",
       "Name: x_urbstat, dtype: int64"
      ]
     },
     "execution_count": 43,
     "metadata": {},
     "output_type": "execute_result"
    }
   ],
   "source": [
    "data['x_urbstat'].value_counts()"
   ]
  },
  {
   "cell_type": "code",
   "execution_count": 44,
   "id": "8554c9c3",
   "metadata": {},
   "outputs": [],
   "source": [
    "data['x_urbstat'].fillna(1, inplace=True)"
   ]
  },
  {
   "cell_type": "markdown",
   "id": "0b8228e4",
   "metadata": {},
   "source": [
    "### Column 11"
   ]
  },
  {
   "cell_type": "code",
   "execution_count": 45,
   "id": "cbc79dc0",
   "metadata": {},
   "outputs": [
    {
     "data": {
      "text/plain": [
       "1.0    44348\n",
       "2.0    20422\n",
       "Name: x_metstat, dtype: int64"
      ]
     },
     "execution_count": 45,
     "metadata": {},
     "output_type": "execute_result"
    }
   ],
   "source": [
    "data['x_metstat'].value_counts()"
   ]
  },
  {
   "cell_type": "code",
   "execution_count": 46,
   "id": "743a866d",
   "metadata": {},
   "outputs": [],
   "source": [
    "data['x_metstat'].fillna(1, inplace=True)"
   ]
  },
  {
   "cell_type": "markdown",
   "id": "4b207052",
   "metadata": {},
   "source": [
    "### Column 12"
   ]
  },
  {
   "cell_type": "code",
   "execution_count": 47,
   "id": "8802f041",
   "metadata": {},
   "outputs": [
    {
     "data": {
      "text/plain": [
       "count    64858.000000\n",
       "mean        26.151022\n",
       "std        188.733123\n",
       "min          0.000000\n",
       "25%          3.000000\n",
       "50%         14.000000\n",
       "75%         29.000000\n",
       "max       9900.000000\n",
       "Name: frnchda_, dtype: float64"
      ]
     },
     "execution_count": 47,
     "metadata": {},
     "output_type": "execute_result"
    }
   ],
   "source": [
    "data['frnchda_'].describe()"
   ]
  },
  {
   "cell_type": "code",
   "execution_count": 48,
   "id": "e181e1ff",
   "metadata": {},
   "outputs": [],
   "source": [
    "data['frnchda_'].fillna(math.ceil(data['frnchda_'].median()), inplace=True)"
   ]
  },
  {
   "cell_type": "markdown",
   "id": "fff8aadf",
   "metadata": {},
   "source": [
    "### Column 13"
   ]
  },
  {
   "cell_type": "code",
   "execution_count": 49,
   "id": "39308cf9",
   "metadata": {},
   "outputs": [
    {
     "data": {
      "text/plain": [
       "2.0    59162\n",
       "1.0     5894\n",
       "Name: x_michd, dtype: int64"
      ]
     },
     "execution_count": 49,
     "metadata": {},
     "output_type": "execute_result"
    }
   ],
   "source": [
    "data['x_michd'].value_counts()"
   ]
  },
  {
   "cell_type": "code",
   "execution_count": 50,
   "id": "8c193d86",
   "metadata": {},
   "outputs": [],
   "source": [
    "data['x_michd'].fillna(2, inplace=True)"
   ]
  },
  {
   "cell_type": "markdown",
   "id": "2df1c81f",
   "metadata": {},
   "source": [
    "### Column 14\n"
   ]
  },
  {
   "cell_type": "code",
   "execution_count": 51,
   "id": "75af089d",
   "metadata": {},
   "outputs": [
    {
     "data": {
      "text/plain": [
       "2.0    40124\n",
       "1.0    25264\n",
       "Name: x_drdxar3, dtype: int64"
      ]
     },
     "execution_count": 51,
     "metadata": {},
     "output_type": "execute_result"
    }
   ],
   "source": [
    "data['x_drdxar3'].value_counts()"
   ]
  },
  {
   "cell_type": "code",
   "execution_count": 52,
   "id": "3b4824f9",
   "metadata": {},
   "outputs": [],
   "source": [
    "data['x_drdxar3'].fillna(2, inplace=True)"
   ]
  },
  {
   "cell_type": "markdown",
   "id": "621360cc",
   "metadata": {},
   "source": [
    "### Column 15"
   ]
  },
  {
   "cell_type": "code",
   "execution_count": 53,
   "id": "cee7f694",
   "metadata": {},
   "outputs": [
    {
     "data": {
      "text/plain": [
       "3.0    40124\n",
       "2.0    16270\n",
       "1.0     8414\n",
       "9.0      580\n",
       "Name: x_lmtwrk3, dtype: int64"
      ]
     },
     "execution_count": 53,
     "metadata": {},
     "output_type": "execute_result"
    }
   ],
   "source": [
    "data['x_lmtwrk3'].value_counts()"
   ]
  },
  {
   "cell_type": "code",
   "execution_count": 54,
   "id": "e0618756",
   "metadata": {},
   "outputs": [],
   "source": [
    "data['x_lmtwrk3'].fillna(3, inplace=True)"
   ]
  },
  {
   "cell_type": "markdown",
   "id": "b3cdbb2a",
   "metadata": {},
   "source": [
    "### Column 16"
   ]
  },
  {
   "cell_type": "code",
   "execution_count": 55,
   "id": "1bb7ce16",
   "metadata": {},
   "outputs": [
    {
     "data": {
      "text/plain": [
       "3.0    40124\n",
       "2.0    12709\n",
       "1.0    12311\n",
       "9.0      244\n",
       "Name: x_lmtact3, dtype: int64"
      ]
     },
     "execution_count": 55,
     "metadata": {},
     "output_type": "execute_result"
    }
   ],
   "source": [
    "data['x_lmtact3'].value_counts()"
   ]
  },
  {
   "cell_type": "code",
   "execution_count": 56,
   "id": "adab42b4",
   "metadata": {},
   "outputs": [],
   "source": [
    "data['x_lmtact3'].fillna(3, inplace=True)"
   ]
  },
  {
   "cell_type": "markdown",
   "id": "d15926ff",
   "metadata": {},
   "source": [
    "### Column 17"
   ]
  },
  {
   "cell_type": "code",
   "execution_count": 57,
   "id": "a3f5746e",
   "metadata": {},
   "outputs": [
    {
     "data": {
      "text/plain": [
       "2.0    38695\n",
       "1.0    23528\n",
       "9.0     3578\n",
       "Name: x_aidtst4, dtype: int64"
      ]
     },
     "execution_count": 57,
     "metadata": {},
     "output_type": "execute_result"
    }
   ],
   "source": [
    "data['x_aidtst4'].value_counts()"
   ]
  },
  {
   "cell_type": "code",
   "execution_count": 58,
   "id": "30c76637",
   "metadata": {},
   "outputs": [],
   "source": [
    "data['x_aidtst4'].fillna(2, inplace=True)"
   ]
  },
  {
   "cell_type": "markdown",
   "id": "2a040195",
   "metadata": {},
   "source": [
    "### Column 18"
   ]
  },
  {
   "cell_type": "code",
   "execution_count": 59,
   "id": "388a9bd7",
   "metadata": {},
   "outputs": [
    {
     "data": {
      "text/plain": [
       "2.0    59244\n",
       "1.0     6381\n",
       "7.0      149\n",
       "9.0       27\n",
       "Name: medcost1, dtype: int64"
      ]
     },
     "execution_count": 59,
     "metadata": {},
     "output_type": "execute_result"
    }
   ],
   "source": [
    "data['medcost1'].value_counts()"
   ]
  },
  {
   "cell_type": "code",
   "execution_count": 60,
   "id": "937a96f7",
   "metadata": {},
   "outputs": [],
   "source": [
    "data['medcost1'].fillna(2, inplace=True)"
   ]
  },
  {
   "cell_type": "markdown",
   "id": "15fa848b",
   "metadata": {},
   "source": [
    "### Column 19"
   ]
  },
  {
   "cell_type": "code",
   "execution_count": 61,
   "id": "2d7493a9",
   "metadata": {},
   "outputs": [
    {
     "data": {
      "text/plain": [
       "1    55157\n",
       "3     4455\n",
       "9     4352\n",
       "2     1838\n",
       "Name: x_cholch3, dtype: int64"
      ]
     },
     "execution_count": 61,
     "metadata": {},
     "output_type": "execute_result"
    }
   ],
   "source": [
    "data['x_cholch3'].value_counts()"
   ]
  },
  {
   "cell_type": "code",
   "execution_count": 62,
   "id": "8a1eed23",
   "metadata": {},
   "outputs": [],
   "source": [
    "data['x_cholch3'].fillna(1, inplace=True)"
   ]
  },
  {
   "cell_type": "code",
   "execution_count": 63,
   "id": "1f0ab8c8",
   "metadata": {},
   "outputs": [],
   "source": [
    "data.to_csv('cleaned_dataset')"
   ]
  },
  {
   "cell_type": "code",
   "execution_count": null,
   "id": "142fbef0",
   "metadata": {},
   "outputs": [],
   "source": []
  }
 ],
 "metadata": {
  "kernelspec": {
   "display_name": "Python 3 (ipykernel)",
   "language": "python",
   "name": "python3"
  },
  "language_info": {
   "codemirror_mode": {
    "name": "ipython",
    "version": 3
   },
   "file_extension": ".py",
   "mimetype": "text/x-python",
   "name": "python",
   "nbconvert_exporter": "python",
   "pygments_lexer": "ipython3",
   "version": "3.9.13"
  }
 },
 "nbformat": 4,
 "nbformat_minor": 5
}
